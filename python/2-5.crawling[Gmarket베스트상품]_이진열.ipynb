{
 "cells": [
  {
   "cell_type": "markdown",
   "metadata": {},
   "source": [
    "## Gmartket 베스트 상품 이미지 크롤링"
   ]
  },
  {
   "cell_type": "markdown",
   "metadata": {},
   "source": [
    "### Gmartket 베스트 상품 이미지 크롤링\n",
    "* 패션 의류 탑 5 상품 이미지"
   ]
  },
  {
   "cell_type": "code",
   "execution_count": 2,
   "metadata": {},
   "outputs": [],
   "source": [
    "import requests\n",
    "from urllib.request import urlopen\n",
    "from bs4 import BeautifulSoup\n",
    "\n",
    "crawl_num = 5   #크롤 갯수\n",
    "\n",
    "#타깃이 되는 URL\n",
    "best_url = 'http://corners.gmarket.co.kr/Bestsellers?viewType=G&groupCode=G01'\n",
    "\n",
    "#HTML 가져오기\n",
    "res = requests.get(best_url)\n",
    "\n",
    "#HTML 파싱하여 객체에 담기\n",
    "soup = BeautifulSoup(res.content, 'html.parser')\n",
    "\n",
    "#태그안의 정보 빼기\n",
    "products = soup.select('div.best-list > ul > li')"
   ]
  },
  {
   "cell_type": "code",
   "execution_count": 5,
   "metadata": {},
   "outputs": [
    {
     "data": {
      "text/plain": [
       "'https://gdimg.gmarket.co.kr/1975776752/still/300?ver=2022091415'"
      ]
     },
     "execution_count": 5,
     "metadata": {},
     "output_type": "execute_result"
    }
   ],
   "source": [
    "img_url = 'https:'+ img_tag['data-original']\n",
    "img_url"
   ]
  },
  {
   "cell_type": "code",
   "execution_count": 7,
   "metadata": {},
   "outputs": [
    {
     "data": {
      "text/plain": [
       "'https://image.gmarket.co.kr/challenge/neo_image/no_image.gif'"
      ]
     },
     "execution_count": 7,
     "metadata": {},
     "output_type": "execute_result"
    }
   ],
   "source": [
    "img_url = 'https:'+ img_tag['src']\n",
    "img_url"
   ]
  },
  {
   "cell_type": "code",
   "execution_count": 8,
   "metadata": {},
   "outputs": [],
   "source": [
    "## 이미지 다운로드\n",
    "from urllib.request import urlopen\n",
    "imgUrl = 'https://gdimg.gmarket.co.kr/189842449/still/300?ver=2022090322'\n",
    "\n",
    "index = 0\n",
    "with urlopen(imgUrl) as f:\n",
    "    with open('./image/crawl/img'+ str(index +1) + '.jpg','wb') as h: # w - write b - binary\n",
    "        img = f.read()\n",
    "        h.write(img)"
   ]
  },
  {
   "cell_type": "markdown",
   "metadata": {},
   "source": [
    "## 종합코드\n",
    "\n",
    "* 베스트 5개 이미지만 저장할 것!"
   ]
  },
  {
   "cell_type": "code",
   "execution_count": 37,
   "metadata": {},
   "outputs": [
    {
     "name": "stdout",
     "output_type": "stream",
     "text": [
      "크롤링 끝~~\n"
     ]
    }
   ],
   "source": [
    "import requests\n",
    "from urllib.request import urlopen\n",
    "from bs4 import BeautifulSoup\n",
    "\n",
    "crawl_num = 5   #크롤 갯수\n",
    "\n",
    "#타깃이 되는 URL\n",
    "best_url = 'http://corners.gmarket.co.kr/Bestsellers?viewType=G&groupCode=G01'\n",
    "\n",
    "#HTML 가져오기\n",
    "res = requests.get(best_url)\n",
    "\n",
    "#HTML 파싱하여 객체에 담기\n",
    "soup = BeautifulSoup(res.content, 'html.parser')\n",
    "\n",
    "#태그안의 정보 빼기\n",
    "products = soup.select('div.best-list > ul > li')\n",
    "\n",
    "for index, product in enumerate(products):\n",
    "\n",
    "    pname = product.select_one('a.itemname').get_text()\n",
    "    pname = pname.replace('/','')\n",
    "\n",
    "    img_tag = product.select_one('img.lazy')\n",
    "\n",
    "    img_url = 'https:'+ img_tag['data-original']\n",
    "\n",
    "    with urlopen(img_url) as f:\n",
    "        with open('./image/crawl/img'+ str(index +1) +'_'+ pname + '.jpg','wb') as h: # w - write b - binary\n",
    "            img = f.read()\n",
    "            h.write(img)\n",
    "\n",
    "    if index == crawl_num -1:\n",
    "        break\n",
    "\n",
    "print('크롤링 끝~~')\n"
   ]
  },
  {
   "cell_type": "markdown",
   "metadata": {},
   "source": [
    "### 파일이름에 상품명이 같이 나오도록 바꾸기\n",
    "\n",
    "* 예) img1.jpg -> img1_겨울 따뜻한 후리스조끼플리스자켓패딩기모바지.jpg"
   ]
  },
  {
   "cell_type": "code",
   "execution_count": 35,
   "metadata": {},
   "outputs": [
    {
     "data": {
      "text/plain": [
       "100"
      ]
     },
     "execution_count": 35,
     "metadata": {},
     "output_type": "execute_result"
    }
   ],
   "source": [
    "len(products)"
   ]
  },
  {
   "cell_type": "code",
   "execution_count": 36,
   "metadata": {},
   "outputs": [
    {
     "data": {
      "text/plain": [
       "'쇼인더룸 가을신상할인 티셔츠/세트/팬츠/빅사이즈'"
      ]
     },
     "execution_count": 36,
     "metadata": {},
     "output_type": "execute_result"
    }
   ],
   "source": [
    "products[0].select_one('a.itemname').get_text()"
   ]
  },
  {
   "cell_type": "code",
   "execution_count": null,
   "metadata": {},
   "outputs": [],
   "source": [
    "for index, product in enumerate(products):\n",
    "    pname = product.select_one('a.itemname').get_text()\n",
    "    pname = pname.replace('/','')\n",
    "\n",
    "    img_tag = product.select_one('img.lazy')\n",
    "\n",
    "    img_url = 'https:'+ img_tag['data-original']\n",
    "\n",
    "with urlopen(img_url) as f:\n",
    "    with open('./image/crawl/img'+ str(index +1) +'_'+ pname + '.jpg','wb') as h: # w - write b - binary\n",
    "        img = f.read()\n",
    "        h.write(img)"
   ]
  },
  {
   "cell_type": "markdown",
   "metadata": {},
   "source": [
    "### 카테고리별 베스트 상품 크롤링 자동화\n",
    "\n",
    "* 패션의류, 신발/잡화, 화장품/헤어, 유아동/출산 .........\n",
    "* 원하는 만큼 상품 크롤링"
   ]
  },
  {
   "cell_type": "markdown",
   "metadata": {},
   "source": [
    "#### 자동으로 URL 만들기\n",
    "\n",
    "* http://corners.gmarket.co.kr/Bestsellers?viewType=G&groupCode=G01\n",
    "* http://corners.gmarket.co.kr/Bestsellers?viewType=G&groupCode=G02\n",
    "* http://corners.gmarket.co.kr/Bestsellers?viewType=G&groupCode=G03\n",
    "* http://corners.gmarket.co.kr/Bestsellers?viewType=G&groupCode=G04\n",
    "\n",
    "> URL을 위의 순서처럼 순서대로 만들려면 어떻게 해야할까?"
   ]
  },
  {
   "cell_type": "code",
   "execution_count": 27,
   "metadata": {},
   "outputs": [
    {
     "name": "stdout",
     "output_type": "stream",
     "text": [
      "http://corners.gmarket.co.kr/Bestsellers?viewType=G&groupCode=G01\n",
      "http://corners.gmarket.co.kr/Bestsellers?viewType=G&groupCode=G02\n",
      "http://corners.gmarket.co.kr/Bestsellers?viewType=G&groupCode=G03\n",
      "http://corners.gmarket.co.kr/Bestsellers?viewType=G&groupCode=G04\n"
     ]
    }
   ],
   "source": [
    "import requests\n",
    "from urllib.request import urlopen\n",
    "from bs4 import BeautifulSoup\n",
    "\n",
    "#타깃이 되는 URL\n",
    "best_url = 'http://corners.gmarket.co.kr/Bestsellers?viewType=G&groupCode=G{:02d}'\n",
    "for i in range(1,5):\n",
    "    url = best_url.format(i)\n",
    "    print(url)\n",
    "\n",
    "# res = requests.get(best_url, params = {'G'})\n",
    "# soup = BeautifulSoup(res.content, 'html.parser')\n",
    "\n",
    "# products = soup.select('div.best-list > ul > li')\n",
    "\n",
    "# for index, product in enumerate(products):\n",
    "\n",
    "#     pname = product.select_one('a.itemname').get_text()\n",
    "#     pname = pname.replace('/','')\n",
    "\n",
    "#     img_tag = product.select_one('img.lazy')\n",
    "\n",
    "#     img_url = 'https:'+ img_tag['data-original']\n",
    "\n",
    "#     with urlopen(img_url) as f:\n",
    "#         with open('./image/crawl/img'+ str(index +1) +'_'+ pname + '.jpg','wb') as h: # w - write b - binary\n",
    "#             img = f.read()\n",
    "#             h.write(img)\n",
    "\n",
    "#     if index == crawl_num -1:\n",
    "#         break\n",
    "      "
   ]
  },
  {
   "cell_type": "markdown",
   "metadata": {},
   "source": [
    "#### 자동으로 4개의 카테고리 베스트 상품을 크롤링 하세요"
   ]
  },
  {
   "cell_type": "code",
   "execution_count": 52,
   "metadata": {},
   "outputs": [],
   "source": [
    "import requests\n",
    "from urllib.request import urlopen\n",
    "from bs4 import BeautifulSoup\n",
    "\n",
    "\n",
    "#타깃이 되는 URL\n",
    "best_url = 'http://corners.gmarket.co.kr/Bestsellers?viewType=G&groupCode=G{:02d}'\n",
    "\n",
    "crawl_num = 5\n",
    "\n",
    "for i in range(1,5):\n",
    "    url = best_url.format(i)\n",
    "\n",
    "    res = requests.get(url)\n",
    "    soup = BeautifulSoup(res.content, 'html.parser')\n",
    "\n",
    "    products = soup.select('div.best-list > ul > li')\n",
    "\n",
    "    for index, product in enumerate(products):\n",
    "\n",
    "\n",
    "        img_tag = product.select_one('img.lazy')\n",
    "        img_url = 'https:'+ img_tag['data-original']\n",
    "        pname = product.select_one('a.itemname').get_text()\n",
    "        pname = pname.replace('/','')\n",
    "\n",
    "        with urlopen(img_url) as f:\n",
    "            with open('./image/crawl/img'+ str(index +1) +'_'+ pname + '.jpg','wb') as h: # w - write b - binary\n",
    "                img = f.read()\n",
    "                h.write(img)\n",
    "\n",
    "        if index == crawl_num -1:\n",
    "            break"
   ]
  },
  {
   "cell_type": "markdown",
   "metadata": {},
   "source": [
    "### 파일 이름이 카테고리별로 정리 되려면 어떻게 해야할까요?\n",
    ">예) <br>\n",
    ">img1_겨울 따뜻한 후리스조끼플리스자켓패딩기모바지.jpg <br>\n",
    ">img1_[달바]화이트 트러플 미스트 세럼 180ml+180ml.jpg <br>\n",
    ">크롤링한 파일이 섞여있어, 카테고리별 베스트 상품을 파악할 수 없어요. <br>"
   ]
  },
  {
   "cell_type": "code",
   "execution_count": null,
   "metadata": {},
   "outputs": [],
   "source": []
  },
  {
   "cell_type": "markdown",
   "metadata": {},
   "source": [
    "## Pillow(PIL) 모듈 체험\n",
    "\n",
    "* 파이썬 이미징 라이브러리로서 여러 이미지 파일 포맷을 지원\n",
    "* 이미지 내부 데이타를 엑세스할 수 있게 하며, 다양한 이미지 처리 기능을 제공\n",
    "\n",
    "https://pillow.readthedocs.io/en/stable/reference/index.html\n",
    "\n",
    "http://pythonstudy.xyz/python/article/406-%ED%8C%8C%EC%9D%B4%EC%8D%AC-%EC%9D%B4%EB%AF%B8%EC%A7%80-%EC%B2%98%EB%A6%AC-Pillow\n"
   ]
  },
  {
   "cell_type": "code",
   "execution_count": 28,
   "metadata": {},
   "outputs": [
    {
     "name": "stdout",
     "output_type": "stream",
     "text": [
      "Requirement already satisfied: Pillow in c:\\python39\\lib\\site-packages (9.2.0)\n"
     ]
    }
   ],
   "source": [
    "!pip install Pillow"
   ]
  },
  {
   "cell_type": "markdown",
   "metadata": {},
   "source": [
    "### 이미지 읽고 쓰기"
   ]
  },
  {
   "cell_type": "code",
   "execution_count": 41,
   "metadata": {},
   "outputs": [
    {
     "name": "stdout",
     "output_type": "stream",
     "text": [
      "(200, 200)\n"
     ]
    }
   ],
   "source": [
    "from PIL import Image\n",
    "# 이미지 열기\n",
    "tmp = Image.open('./image/dog.jpg')\n",
    "\n",
    "# 이미지 크기 출력\n",
    "print(tmp.size)\n",
    "tmp.close()"
   ]
  },
  {
   "cell_type": "code",
   "execution_count": 40,
   "metadata": {},
   "outputs": [
    {
     "name": "stdout",
     "output_type": "stream",
     "text": [
      "(200, 200)\n"
     ]
    }
   ],
   "source": [
    "from PIL import Image\n",
    "# 이미지 열기\n",
    "fileName='dog'\n",
    "tmp = Image.open('./image/' + fileName + '.jpg')\n",
    " \n",
    "# 이미지 크기 출력\n",
    "print(tmp.size)\n",
    "tmp.close()"
   ]
  },
  {
   "cell_type": "markdown",
   "metadata": {},
   "source": [
    "### 이미지 사이즈 조절"
   ]
  },
  {
   "cell_type": "code",
   "execution_count": 12,
   "metadata": {},
   "outputs": [
    {
     "name": "stdout",
     "output_type": "stream",
     "text": [
      "---end ---\n"
     ]
    }
   ],
   "source": [
    "fileName='dog'\n",
    "tmp=Image.open('./image/' + fileName + '.jpg')\n",
    "\n",
    "# 200x200으로 조절\n",
    "tmpResize=tmp.resize((200,200))\n",
    "tmpResize.save('./image/' + fileName + '.jpg')\n",
    "\n",
    "print('---end ---')\n",
    "tmp.close()"
   ]
  },
  {
   "cell_type": "code",
   "execution_count": 33,
   "metadata": {},
   "outputs": [
    {
     "name": "stdout",
     "output_type": "stream",
     "text": [
      "---end ---\n"
     ]
    }
   ],
   "source": [
    "fileName='dog'\n",
    "tmp=Image.open('./image/' + fileName + '.jpg')\n",
    "\n",
    "size=300\n",
    "tmpResize=tmp.resize((size,size))\n",
    "tmpResize.save('./image/' + str(size) + fileName + '.jpg')\n",
    "print('---end ---')\n",
    "tmp.close()"
   ]
  },
  {
   "cell_type": "markdown",
   "metadata": {},
   "source": [
    "### 이미지에 로고 합성\n",
    " https://creativeworks.tistory.com/entry/PYTHON-3-Tutorials-41-Combine-Images-Together-%EC%9D%B4%EB%AF%B8%EC%A7%80-%EB%B3%91%ED%95%A9%ED%95%98%EA%B8%B0-like-watermark%EC%9B%8C%ED%84%B0%EB%A7%88%ED%81%AC?category=620431"
   ]
  },
  {
   "cell_type": "code",
   "execution_count": 48,
   "metadata": {},
   "outputs": [
    {
     "name": "stdout",
     "output_type": "stream",
     "text": [
      "(64, 64)\n"
     ]
    }
   ],
   "source": [
    "from PIL import Image\n",
    "\n",
    "logo=Image.open('./image/top.png')\n",
    "\n",
    "print(logo.size)"
   ]
  },
  {
   "cell_type": "code",
   "execution_count": 49,
   "metadata": {},
   "outputs": [],
   "source": [
    "#area=(0,0,64,64)\n",
    "p=Image.open('./image/crawl/img1_쇼인더룸 가을신상할인 티셔츠세트팬츠빅사이즈.jpg')\n",
    "\n",
    "area=(0,0,logo.width,logo.height)\n",
    "\n",
    "p.paste(logo,area,logo) #png 파일 배경 투명하게 붙이는 방법\n",
    "\n",
    "p.save('./image/crawl/img1[logo]_쇼인더룸 가을신상할인 티셔츠세트팬츠빅사이즈.jpg')\n",
    "p.close()\n",
    "logo.close()"
   ]
  },
  {
   "cell_type": "markdown",
   "metadata": {},
   "source": [
    "## 디렉토리안 파일리스트 가져오기"
   ]
  },
  {
   "cell_type": "code",
   "execution_count": 3,
   "metadata": {},
   "outputs": [
    {
     "data": {
      "text/plain": [
       "['img1.jpg',\n",
       " 'img1_[알로앤루]12%중복쿠폰 알로 알퐁소 가을신상오픈.jpg',\n",
       " 'img1_[에스콰이아]30% 에스콰이아 가을준비 FW 가방 (숄더백토트미니백외).jpg',\n",
       " 'img1_[이니스프리](50%+10%) 전품목 빅세일+클렌징폼 선크림 핸드크림 반값.jpg',\n",
       " 'img1_너의지금 20%쿠폰 신상니트 가디건롱세트가을신상크롭박스루즈핏긴팔.jpg',\n",
       " 'img1_쇼인더룸 가을신상할인 티셔츠세트팬츠빅사이즈.jpg',\n",
       " 'img2.jpg',\n",
       " 'img2_[맥퀸뉴욕]1+1 워터 벨벳 픽싱틴트 촉촉한 수분 블러링틴트 외 아이라이너아이브로우멀티밤~75%.jpg',\n",
       " 'img2_[베베앙]베베앙 아기물티슈  시그니처 대용량 100매 캡형 10팩.jpg',\n",
       " 'img2_[투투삭스]균일가 착용감 좋은 양말발목중목패션학생.jpg',\n",
       " 'img2_모노시크가을신상 티셔츠맨투맨후드니트블라우스셔츠남방가디건세트팬츠스커트데일리룩.jpg',\n",
       " 'img3.jpg',\n",
       " 'img3_[버블트리]주니어 여아 가을 인기 스쿨룩  상하세트 팬츠 맨투맨 원피스 레깅스.jpg',\n",
       " 'img3_[우르오스][우르오스] 스킨워시 500ml x 2개 (914  스킨로션 15ml + 스킨밀크 15ml 증정).jpg',\n",
       " 'img3_너의지금 20%쿠폰 신상니트 가디건롱세트가을신상크롭박스루즈핏긴팔.jpg',\n",
       " 'img3_보가 가을신상 슬링백블로퍼펌프스스니커즈.jpg',\n",
       " 'img3_패션라인 가을신상 원피스니트맨투맨셔츠팬츠청바지자켓데님세트상품.jpg',\n",
       " 'img4.jpg',\n",
       " 'img4_(할인특가) 인북 - 브레인 병풍차트 (12가지 주제) ',\n",
       " 'img4_[디즈니]슈라모드디즈니 외 FW 1+1단품 거실화 털슬리퍼.jpg',\n",
       " 'img4_[에뛰드]에뛰드 개강한세일 UPTO 55%.jpg',\n",
       " 'img4_제이프랑 가을신상 티셔츠팬츠긴팔셋업.jpg',\n",
       " 'img4_패션라인 가을신상 원피스니트맨투맨셔츠팬츠청바지자켓데님세트상품.jpg',\n",
       " 'img5.jpg',\n",
       " 'img5_[슈퍼대디]아기물티슈  엑셀런트 82 아기물티슈 캡형 70매 20팩.jpg',\n",
       " 'img5_[에바스]로에랑스 퍼퓸 바디미스트샤워코롱 250ml(+행사중).jpg',\n",
       " 'img5_가을 신상 은침귀걸이 우영우 고래귀걸이 원터치 링 스터드.jpg',\n",
       " 'img5_쇼인더룸 가을신상할인 티셔츠세트팬츠빅사이즈.jpg',\n",
       " 'img5_제이프랑 가을신상 티셔츠팬츠긴팔셋업.jpg']"
      ]
     },
     "execution_count": 3,
     "metadata": {},
     "output_type": "execute_result"
    }
   ],
   "source": [
    "import os\n",
    "path_dir='./image/crawl'\n",
    "fileList=os.listdir(path_dir)\n",
    "fileList"
   ]
  },
  {
   "cell_type": "markdown",
   "metadata": {},
   "source": [
    "## 카테고리별 1등 파일에만 1등 로고합성하기"
   ]
  },
  {
   "cell_type": "code",
   "execution_count": 7,
   "metadata": {},
   "outputs": [],
   "source": [
    "# 디렉토리에 있는 파일리스트 파악하기\n",
    "# 파일이름(문자열)에서 내가 찾고싶은 문자를 포함한 파일 찾기\n",
    "# 로고 붙이기(검증된 내용)과 코드 조합하기\n",
    "\n",
    "from PIL import Image\n",
    "import os\n",
    "path_dir='./image/crawl'\n",
    "fileList=os.listdir(path_dir)\n",
    "\n",
    "logo=Image.open('./image/top.png')\n",
    "\n",
    "for n in fileList:\n",
    "    if n.find('img1')==0:\n",
    "        p=Image.open(f'./image/crawl/{n}')\n",
    "        area=(0,0,logo.width,logo.height)\n",
    "        p.paste(logo,area,logo)\n",
    "        p.save(f'./image/crawl/(logo){n}')\n",
    "    else:\n",
    "        break\n",
    "\n",
    "p.close()\n",
    "logo.close()"
   ]
  },
  {
   "cell_type": "code",
   "execution_count": null,
   "metadata": {},
   "outputs": [],
   "source": []
  }
 ],
 "metadata": {
  "kernelspec": {
   "display_name": "Python 3.9.13 64-bit",
   "language": "python",
   "name": "python3"
  },
  "language_info": {
   "codemirror_mode": {
    "name": "ipython",
    "version": 3
   },
   "file_extension": ".py",
   "mimetype": "text/x-python",
   "name": "python",
   "nbconvert_exporter": "python",
   "pygments_lexer": "ipython3",
   "version": "3.9.13"
  },
  "toc": {
   "base_numbering": 1,
   "nav_menu": {},
   "number_sections": true,
   "sideBar": true,
   "skip_h1_title": false,
   "title_cell": "Table of Contents",
   "title_sidebar": "Contents",
   "toc_cell": false,
   "toc_position": {
    "height": "calc(100% - 180px)",
    "left": "10px",
    "top": "150px",
    "width": "284.2px"
   },
   "toc_section_display": true,
   "toc_window_display": false
  },
  "varInspector": {
   "cols": {
    "lenName": 16,
    "lenType": 16,
    "lenVar": 40
   },
   "kernels_config": {
    "python": {
     "delete_cmd_postfix": "",
     "delete_cmd_prefix": "del ",
     "library": "var_list.py",
     "varRefreshCmd": "print(var_dic_list())"
    },
    "r": {
     "delete_cmd_postfix": ") ",
     "delete_cmd_prefix": "rm(",
     "library": "var_list.r",
     "varRefreshCmd": "cat(var_dic_list()) "
    }
   },
   "position": {
    "height": "496.4px",
    "left": "1173px",
    "right": "20px",
    "top": "146px",
    "width": "350px"
   },
   "types_to_exclude": [
    "module",
    "function",
    "builtin_function_or_method",
    "instance",
    "_Feature"
   ],
   "window_display": false
  },
  "vscode": {
   "interpreter": {
    "hash": "81794d4967e6c3204c66dcd87b604927b115b27c00565d3d43f05ba2f3a2cb0d"
   }
  }
 },
 "nbformat": 4,
 "nbformat_minor": 4
}
